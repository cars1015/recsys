{
  "cells": [
    {
      "cell_type": "markdown",
      "metadata": {
        "id": "view-in-github",
        "colab_type": "text"
      },
      "source": [
        "<a href=\"https://colab.research.google.com/github/cars1015/recsys_MyReserch/blob/main/EASE.ipynb\" target=\"_parent\"><img src=\"https://colab.research.google.com/assets/colab-badge.svg\" alt=\"Open In Colab\"/></a>"
      ]
    },
    {
      "cell_type": "code",
      "execution_count": 2,
      "metadata": {
        "colab": {
          "base_uri": "https://localhost:8080/"
        },
        "id": "RZ5vje1mddAb",
        "outputId": "1f6a6633-33ee-4dc6-f143-5934aea5b910"
      },
      "outputs": [
        {
          "output_type": "stream",
          "name": "stdout",
          "text": [
            "Drive already mounted at /content/drive; to attempt to forcibly remount, call drive.mount(\"/content/drive\", force_remount=True).\n"
          ]
        }
      ],
      "source": [
        "from google.colab import drive\n",
        "\n",
        "# Googleドライブをマウント\n",
        "drive.mount('/content/drive')"
      ]
    },
    {
      "cell_type": "code",
      "source": [
        "\n",
        "from scipy import sparse\n",
        "import os"
      ],
      "metadata": {
        "id": "toBlCY2RQfqW"
      },
      "execution_count": 3,
      "outputs": []
    },
    {
      "cell_type": "code",
      "execution_count": 6,
      "metadata": {
        "id": "Qe-OyXPHYugi"
      },
      "outputs": [],
      "source": [
        "from scipy.sparse import csr_matrix\n",
        "import numpy as np\n",
        "import pandas as pd\n",
        "from sklearn.preprocessing import LabelEncoder\n",
        "from tqdm import tqdm#処理の進捗状況を知らせる機能\n",
        "\n",
        "\n",
        "class EASE:\n",
        "    def __init__(self):\n",
        "      #LabelEncoder()は文字列を数値に変えてくれる\n",
        "        self.user_enc = LabelEncoder()\n",
        "        self.item_enc = LabelEncoder()\n",
        "\n",
        "    def _get_users_and_items(self, df):\n",
        "        users = self.user_enc.fit_transform(df.loc[:, 'uid'])\n",
        "        items = self.item_enc.fit_transform(df.loc[:, 'sid'])\n",
        "        return users, items\n",
        "\n",
        "    def fit(self, df, lambda_: float = 0.5, implicit=True):\n",
        "        \"\"\"\n",
        "        df: pandas.DataFrame with columns user_id, item_id and (rating)\n",
        "        lambda_: l2-regularization term\n",
        "        implicit: if True, ratings are ignored and taken as 1, else normalized ratings are used\n",
        "        \"\"\"\n",
        "        users, items = self._get_users_and_items(df)\n",
        "        values = np.ones(df.shape[0]) if implicit else df['rating'].to_numpy() / df['rating'].max()\n",
        "\n",
        "        X = csr_matrix((values, (users, items)))\n",
        "        self.X = X\n",
        "\n",
        "        G = X.T.dot(X).toarray()\n",
        "        print(G)\n",
        "        diagIndices = np.diag_indices(G.shape[0])\n",
        "        G[diagIndices] += lambda_\n",
        "        P = np.linalg.inv(G)\n",
        "        B = P / (-np.diag(P))\n",
        "        B[diagIndices] = 0\n",
        "\n",
        "        self.B = B\n",
        "        # self.pred = X.dot(B)\n"
      ]
    },
    {
      "cell_type": "code",
      "source": [],
      "metadata": {
        "id": "7Nnp6gsolGB6"
      },
      "execution_count": null,
      "outputs": []
    },
    {
      "cell_type": "code",
      "execution_count": 5,
      "metadata": {
        "id": "9XjzALOddR9P"
      },
      "outputs": [],
      "source": [
        "#data = \"ml-20m-clean-new\"\n",
        "data=\"ml-20m\"\n",
        "dir = \"/content/drive/MyDrive/recommend/\" + data + \"/pro_sg/\"\n",
        "\n",
        "import pandas as pd\n",
        "\n",
        "#df = pd.read_csv(dir + \"clean_train.csv\")\n",
        "\n",
        "df=pd.read_csv(dir+\"train.csv\")\n",
        "\n",
        "\n",
        "# df = pd.read_csv(dir + \"train-editor-ml-20m-movie.csv\")\n",
        "\n",
        "model = EASE()\n",
        "model.fit(df, lambda_ = 200.0)\n",
        "#netflix-prizeの最適lambdaは1000\n",
        "#ML-20mは500\n",
        "#MSDは200\n"
      ]
    },
    {
      "cell_type": "code",
      "execution_count": null,
      "metadata": {
        "id": "SLJDqjDbMM7C"
      },
      "outputs": [],
      "source": [
        "#df_test = pd.read_csv(dir + \"clean_test_tr.csv\")\n",
        "df_test=pd.read_csv(dir+\"test_tr.csv\")\n",
        "\n",
        "users = df_test.loc[:, 'uid']\n",
        "items = df_test.loc[:, 'sid']\n",
        "\n",
        "u_enc = LabelEncoder()\n",
        "users_id = u_enc.fit_transform(users)\n",
        "items_id = model.item_enc.transform(items)\n",
        "\n",
        "# \n",
        "values = np.ones(df_test.shape[0])\n",
        "shape = (u_enc.classes_.size, model.item_enc.classes_.size)\n",
        "X = csr_matrix((values, (users_id, items_id)), shape=shape)\n",
        "print(X)\n",
        "print(X.toarray())\n",
        "#\n",
        "print(X.T.dot(X).toarray())\n",
        "\n",
        "pred = X.dot(model.B)"
      ]
    },
    {
      "cell_type": "code",
      "source": [
        "print(model.B)"
      ],
      "metadata": {
        "colab": {
          "base_uri": "https://localhost:8080/"
        },
        "id": "G_k_57A9pcPY",
        "outputId": "c98ac014-563b-495e-8232-19d82342e7f2"
      },
      "execution_count": 13,
      "outputs": [
        {
          "output_type": "stream",
          "name": "stdout",
          "text": [
            "[[ 0.00000000e+00 -4.19207706e-03  1.64331381e-02 ...  3.17997256e-06\n",
            "   3.17997256e-06  3.17997256e-06]\n",
            " [-2.28424525e-03  0.00000000e+00  3.99140542e-03 ... -2.06805163e-05\n",
            "  -2.06805163e-05 -2.06805163e-05]\n",
            " [ 9.55797281e-03  4.26047141e-03  0.00000000e+00 ...  7.21536996e-05\n",
            "   7.21536996e-05  7.21536996e-05]\n",
            " ...\n",
            " [ 6.42326384e-05 -7.66620259e-04  2.50579596e-03 ...  0.00000000e+00\n",
            "   3.20409650e-03  3.20409650e-03]\n",
            " [ 6.42326384e-05 -7.66620259e-04  2.50579596e-03 ...  3.20409650e-03\n",
            "   0.00000000e+00  3.20409650e-03]\n",
            " [ 6.42326384e-05 -7.66620259e-04  2.50579596e-03 ...  3.20409650e-03\n",
            "   3.20409650e-03  0.00000000e+00]]\n"
          ]
        }
      ]
    },
    {
      "cell_type": "code",
      "source": [
        "np.savetxt(dir+\"pred_white.txt\",pred)\n",
        "#x=np.loadtxt(dir+\"pred.txt\")"
      ],
      "metadata": {
        "id": "xqmfEvBo45ed"
      },
      "execution_count": 11,
      "outputs": []
    },
    {
      "cell_type": "code",
      "execution_count": 23,
      "metadata": {
        "colab": {
          "base_uri": "https://localhost:8080/"
        },
        "id": "TlggOpMZ5two",
        "outputId": "6ca1db6e-306c-41b9-a6c7-cd1ba1135a3d"
      },
      "outputs": [
        {
          "output_type": "stream",
          "name": "stderr",
          "text": [
            "100%|██████████| 40000/40000 [15:15<00:00, 43.70it/s]\n"
          ]
        }
      ],
      "source": [
        "df_results = pd.DataFrame()\n",
        "\n",
        "dd_test = df_test.groupby('uid')\n",
        "\n",
        "k=100\n",
        "#ラベル名を渡している\n",
        "item_set = model.item_enc.classes_\n",
        "\n",
        "for user, group in tqdm(dd_test):\n",
        "  #重複なしのsid格納\n",
        "  watched = set(group['sid'])\n",
        "  #触れられなかったアイテムを格納\n",
        "  candidates = [item for item in item_set if item not in watched]\n",
        "  uid = u_enc.transform([user])\n",
        "  #ここに評価されていないアイテムの予測評価値が格納されている\n",
        "  p = np.take(pred[uid[0], :], candidates)\n",
        "  #配列全体をソートせずに上位k件についてインデックスを見つけソート\n",
        "  res = np.argpartition(p, -k)[-k:]\n",
        "  #rに一人のユーザの上位100件のおすすめデータを格納し、スコアでソートしている。\n",
        "  r = pd.DataFrame({\n",
        "                \"uid\": [user] * len(res),\n",
        "                \"sid\": np.take(candidates, res),\n",
        "                \"score\": np.take(p, res)\n",
        "      }).sort_values('score', ascending=False)\n",
        "  df_results = df_results.append(r, ignore_index=True)\n",
        "#すべてのユーザに予測された評価値上位100個のアイテムを出力\n",
        "df_results.to_csv(dir + \"ease_results_500.csv\", index=False, header=False)"
      ]
    }
  ],
  "metadata": {
    "colab": {
      "machine_shape": "hm",
      "provenance": [],
      "include_colab_link": true
    },
    "kernelspec": {
      "display_name": "Python 3",
      "name": "python3"
    },
    "language_info": {
      "name": "python"
    }
  },
  "nbformat": 4,
  "nbformat_minor": 0
}
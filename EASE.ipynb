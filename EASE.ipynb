{
  "nbformat": 4,
  "nbformat_minor": 0,
  "metadata": {
    "colab": {
      "provenance": [],
      "machine_shape": "hm",
      "include_colab_link": true
    },
    "kernelspec": {
      "name": "python3",
      "display_name": "Python 3"
    },
    "language_info": {
      "name": "python"
    }
  },
  "cells": [
    {
      "cell_type": "markdown",
      "metadata": {
        "id": "view-in-github",
        "colab_type": "text"
      },
      "source": [
        "<a href=\"https://colab.research.google.com/github/cars1015/recsys_MyReserch/blob/main/EASE.ipynb\" target=\"_parent\"><img src=\"https://colab.research.google.com/assets/colab-badge.svg\" alt=\"Open In Colab\"/></a>"
      ]
    },
    {
      "cell_type": "code",
      "source": [
        "from google.colab import drive\n",
        "\n",
        "# Googleドライブをマウント\n",
        "drive.mount('/content/drive')"
      ],
      "metadata": {
        "id": "RZ5vje1mddAb",
        "colab": {
          "base_uri": "https://localhost:8080/"
        },
        "outputId": "805070ec-547e-4834-b2d3-83175bbefd21"
      },
      "execution_count": null,
      "outputs": [
        {
          "output_type": "stream",
          "name": "stdout",
          "text": [
            "Mounted at /content/drive\n"
          ]
        }
      ]
    },
    {
      "cell_type": "code",
      "execution_count": null,
      "metadata": {
        "id": "Qe-OyXPHYugi"
      },
      "outputs": [],
      "source": [
        "from scipy.sparse import csr_matrix\n",
        "import numpy as np\n",
        "import pandas as pd\n",
        "from sklearn.preprocessing import LabelEncoder\n",
        "from tqdm import tqdm\n",
        "\n",
        "\n",
        "class EASE:\n",
        "    def __init__(self):\n",
        "        self.user_enc = LabelEncoder()\n",
        "        self.item_enc = LabelEncoder()\n",
        "\n",
        "    def _get_users_and_items(self, df):\n",
        "        users = self.user_enc.fit_transform(df.loc[:, 'uid'])\n",
        "        items = self.item_enc.fit_transform(df.loc[:, 'sid'])\n",
        "        return users, items\n",
        "\n",
        "    def fit(self, df, lambda_: float = 0.5, implicit=True):\n",
        "        \"\"\"\n",
        "        df: pandas.DataFrame with columns user_id, item_id and (rating)\n",
        "        lambda_: l2-regularization term\n",
        "        implicit: if True, ratings are ignored and taken as 1, else normalized ratings are used\n",
        "        \"\"\"\n",
        "        users, items = self._get_users_and_items(df)\n",
        "        values = np.ones(df.shape[0]) if implicit else df['rating'].to_numpy() / df['rating'].max()\n",
        "\n",
        "        X = csr_matrix((values, (users, items)))\n",
        "        self.X = X\n",
        "\n",
        "        G = X.T.dot(X).toarray()\n",
        "        diagIndices = np.diag_indices(G.shape[0])\n",
        "        G[diagIndices] += lambda_\n",
        "        P = np.linalg.inv(G)\n",
        "        B = P / (-np.diag(P))\n",
        "        B[diagIndices] = 0\n",
        "\n",
        "        self.B = B\n",
        "        # self.pred = X.dot(B)\n"
      ]
    },
    {
      "cell_type": "code",
      "source": [
        "data = \"ml-20m\"\n",
        "dir = \"/content/drive/MyDrive/recommend/\" + data + \"/pro_sg/\"\n",
        "\n",
        "import pandas as pd\n",
        "\n",
        "df = pd.read_csv(dir + \"train.csv\")\n",
        "# df = pd.read_csv(dir + \"train-editor-ml-20m-movie.csv\")\n",
        "\n",
        "model = EASE()\n",
        "model.fit(df, lambda_ = 500.0)\n"
      ],
      "metadata": {
        "id": "9XjzALOddR9P"
      },
      "execution_count": null,
      "outputs": []
    },
    {
      "cell_type": "code",
      "source": [
        "df_test = pd.read_csv(dir + \"test_tr.csv\")\n",
        "\n",
        "#\n",
        "users = df_test.loc[:, 'uid']\n",
        "items = df_test.loc[:, 'sid']\n",
        "\n",
        "u_enc = LabelEncoder()\n",
        "users_id = u_enc.fit_transform(users)\n",
        "items_id = model.item_enc.transform(items)\n",
        "\n",
        "# \n",
        "values = np.ones(df_test.shape[0])\n",
        "shape = (u_enc.classes_.size, model.item_enc.classes_.size)\n",
        "X = csr_matrix((values, (users_id, items_id)), shape=shape)\n",
        "\n",
        "#\n",
        "pred = X.dot(model.B)"
      ],
      "metadata": {
        "id": "SLJDqjDbMM7C"
      },
      "execution_count": null,
      "outputs": []
    },
    {
      "cell_type": "code",
      "source": [
        "df_results = pd.DataFrame()\n",
        "\n",
        "dd_test = df_test.groupby('uid')\n",
        "\n",
        "k=100\n",
        "\n",
        "item_set = model.item_enc.classes_\n",
        "\n",
        "for user, group in tqdm(dd_test):\n",
        "  watched = set(group['sid'])\n",
        "  candidates = [item for item in item_set if item not in watched]\n",
        "  uid = u_enc.transform([user])\n",
        "  p = np.take(pred[uid[0], :], candidates)\n",
        "  res = np.argpartition(p, -k)[-k:]\n",
        "  r = pd.DataFrame({\n",
        "                \"uid\": [user] * len(res),\n",
        "                \"sid\": np.take(candidates, res),\n",
        "                \"score\": np.take(p, res)\n",
        "      }).sort_values('score', ascending=False)\n",
        "  #df_results = df_results.append(r, ignore_index=True)\n",
        "  pd.concat([r, df_results])\n",
        "\n",
        "df_results.to_csv(dir + \"ease_results_500.csv\", index=False, header=False)"
      ],
      "metadata": {
        "id": "TlggOpMZ5two",
        "colab": {
          "base_uri": "https://localhost:8080/"
        },
        "outputId": "9bde4779-ecef-4a95-bf44-0f2a58c65cba"
      },
      "execution_count": null,
      "outputs": [
        {
          "output_type": "stream",
          "name": "stderr",
          "text": [
            "100%|██████████| 10000/10000 [00:57<00:00, 175.22it/s]\n"
          ]
        }
      ]
    }
  ]
}
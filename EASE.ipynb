{
  "cells": [
    {
      "cell_type": "markdown",
      "metadata": {
        "id": "view-in-github",
        "colab_type": "text"
      },
      "source": [
        "<a href=\"https://colab.research.google.com/github/cars1015/recsys_MyReserch/blob/main/EASE.ipynb\" target=\"_parent\"><img src=\"https://colab.research.google.com/assets/colab-badge.svg\" alt=\"Open In Colab\"/></a>"
      ]
    },
    {
      "cell_type": "code",
      "execution_count": 1,
      "metadata": {
        "colab": {
          "base_uri": "https://localhost:8080/"
        },
        "id": "RZ5vje1mddAb",
        "outputId": "6f646c08-9224-4e6a-8a98-db84dacfab81"
      },
      "outputs": [
        {
          "output_type": "stream",
          "name": "stdout",
          "text": [
            "Mounted at /content/drive\n"
          ]
        }
      ],
      "source": [
        "from google.colab import drive\n",
        "\n",
        "# Googleドライブをマウント\n",
        "drive.mount('/content/drive')"
      ]
    },
    {
      "cell_type": "code",
      "execution_count": null,
      "metadata": {
        "id": "Qe-OyXPHYugi"
      },
      "outputs": [],
      "source": [
        "from scipy.sparse import csr_matrix\n",
        "import numpy as np\n",
        "import pandas as pd\n",
        "from sklearn.preprocessing import LabelEncoder\n",
        "from tqdm import tqdm#処理の進捗状況を知らせる機能\n",
        "\n",
        "\n",
        "class EASE:\n",
        "    def __init__(self):\n",
        "      #LabelEncoder()は文字列を数値に変えてくれる\n",
        "        self.user_enc = LabelEncoder()\n",
        "        self.item_enc = LabelEncoder()\n",
        "\n",
        "    def _get_users_and_items(self, df):\n",
        "        users = self.user_enc.fit_transform(df.loc[:, 'uid'])\n",
        "        items = self.item_enc.fit_transform(df.loc[:, 'sid'])\n",
        "        return users, items\n",
        "\n",
        "    def fit(self, df, lambda_: float = 0.5, implicit=True):\n",
        "        \"\"\"\n",
        "        df: pandas.DataFrame with columns user_id, item_id and (rating)\n",
        "        lambda_: l2-regularization term\n",
        "        implicit: if True, ratings are ignored and taken as 1, else normalized ratings are used\n",
        "        \"\"\"\n",
        "        users, items = self._get_users_and_items(df)\n",
        "        values = np.ones(df.shape[0]) if implicit else df['rating'].to_numpy() / df['rating'].max()\n",
        "\n",
        "        X = csr_matrix((values, (users, items)))\n",
        "        self.X = X\n",
        "\n",
        "        G = X.T.dot(X).toarray()\n",
        "        diagIndices = np.diag_indices(G.shape[0])\n",
        "        G[diagIndices] += lambda_\n",
        "        P = np.linalg.inv(G)\n",
        "        B = P / (-np.diag(P))\n",
        "        B[diagIndices] = 0\n",
        "\n",
        "        self.B = B\n",
        "        # self.pred = X.dot(B)\n"
      ]
    },
    {
      "cell_type": "code",
      "execution_count": null,
      "metadata": {
        "id": "9XjzALOddR9P"
      },
      "outputs": [],
      "source": [
        "#data = \"ml-20m-clean-new\"\n",
        "data=\"netflix-prize\"\n",
        "dir = \"/content/drive/MyDrive/recommend/\" + data + \"/pro_sg/\"\n",
        "\n",
        "import pandas as pd\n",
        "\n",
        "#df = pd.read_csv(dir + \"clean_train.csv\")\n",
        "\n",
        "df=pd.read_csv(dir+\"train.csv\")\n",
        "\n",
        "\n",
        "# df = pd.read_csv(dir + \"train-editor-ml-20m-movie.csv\")\n",
        "\n",
        "model = EASE()\n",
        "model.fit(df, lambda_ = 1000.0)\n",
        "#netflix-prizeの最適lambdaは1000\n",
        "#ML-20mは500\n",
        "#MSDは200\n"
      ]
    },
    {
      "cell_type": "code",
      "execution_count": null,
      "metadata": {
        "id": "SLJDqjDbMM7C"
      },
      "outputs": [],
      "source": [
        "#df_test = pd.read_csv(dir + \"clean_test_tr.csv\")\n",
        "df_test=pd.read_csv(dir+\"test_tr.csv\")\n",
        "\n",
        "users = df_test.loc[:, 'uid']\n",
        "items = df_test.loc[:, 'sid']\n",
        "\n",
        "u_enc = LabelEncoder()\n",
        "users_id = u_enc.fit_transform(users)\n",
        "items_id = model.item_enc.transform(items)\n",
        "\n",
        "# \n",
        "values = np.ones(df_test.shape[0])\n",
        "shape = (u_enc.classes_.size, model.item_enc.classes_.size)\n",
        "X = csr_matrix((values, (users_id, items_id)), shape=shape)\n",
        "\n",
        "#\n",
        "pred = X.dot(model.B)"
      ]
    },
    {
      "cell_type": "code",
      "execution_count": null,
      "metadata": {
        "colab": {
          "base_uri": "https://localhost:8080/"
        },
        "id": "TlggOpMZ5two",
        "outputId": "621d0e64-68f5-4e87-b1d6-949b1726ea24"
      },
      "outputs": [
        {
          "output_type": "stream",
          "name": "stderr",
          "text": [
            "100%|██████████| 40000/40000 [13:09<00:00, 50.68it/s]\n"
          ]
        }
      ],
      "source": [
        "df_results = pd.DataFrame()\n",
        "\n",
        "dd_test = df_test.groupby('uid')\n",
        "\n",
        "k=100\n",
        "#ラベル名を渡している\n",
        "item_set = model.item_enc.classes_\n",
        "\n",
        "for user, group in tqdm(dd_test):\n",
        "  #重複なしのsid格納\n",
        "  watched = set(group['sid'])\n",
        "  #触れられなかったアイテムを格納\n",
        "  candidates = [item for item in item_set if item not in watched]\n",
        "  uid = u_enc.transform([user])\n",
        "  #ここに評価されていないアイテムの予測評価値が格納されている\n",
        "  p = np.take(pred[uid[0], :], candidates)\n",
        "  #配列全体をソートせずに上位k件についてインデックスを見つけソート\n",
        "  res = np.argpartition(p, -k)[-k:]\n",
        "  #rに一人のユーザの上位100件のおすすめデータを格納し、スコアでソートしている。\n",
        "  r = pd.DataFrame({\n",
        "                \"uid\": [user] * len(res),\n",
        "                \"sid\": np.take(candidates, res),\n",
        "                \"score\": np.take(p, res)\n",
        "      }).sort_values('score', ascending=False)\n",
        "  df_results = df_results.append(r, ignore_index=True)\n",
        "#すべてのユーザに予測された評価値上位100個のアイテムを出力\n",
        "df_results.to_csv(dir + \"ease_results_500.csv\", index=False, header=False)"
      ]
    },
    {
      "cell_type": "code",
      "execution_count": null,
      "metadata": {
        "id": "YhD3_XmM_V_I",
        "outputId": "53beab6c-fcbf-4966-c7ec-73f49465a8d3",
        "colab": {
          "base_uri": "https://localhost:8080/"
        }
      },
      "outputs": [
        {
          "output_type": "error",
          "ename": "FileNotFoundError",
          "evalue": "ignored",
          "traceback": [
            "\u001b[0;31m---------------------------------------------------------------------------\u001b[0m",
            "\u001b[0;31mFileNotFoundError\u001b[0m                         Traceback (most recent call last)",
            "\u001b[0;32m<ipython-input-24-85472c24be9a>\u001b[0m in \u001b[0;36m<module>\u001b[0;34m\u001b[0m\n\u001b[1;32m      1\u001b[0m \u001b[0;32mimport\u001b[0m \u001b[0mcsv\u001b[0m\u001b[0;34m\u001b[0m\u001b[0;34m\u001b[0m\u001b[0m\n\u001b[0;32m----> 2\u001b[0;31m \u001b[0mcsv_file\u001b[0m \u001b[0;34m=\u001b[0m \u001b[0mopen\u001b[0m\u001b[0;34m(\u001b[0m\u001b[0mdir\u001b[0m\u001b[0;34m+\u001b[0m\u001b[0;34m\"ease_results_500.csv\"\u001b[0m\u001b[0;34m,\u001b[0m \u001b[0;34m\"r\"\u001b[0m\u001b[0;34m,\u001b[0m \u001b[0mencoding\u001b[0m\u001b[0;34m=\u001b[0m\u001b[0;34m\"UTF-8\"\u001b[0m\u001b[0;34m)\u001b[0m\u001b[0;34m\u001b[0m\u001b[0;34m\u001b[0m\u001b[0m\n\u001b[0m\u001b[1;32m      3\u001b[0m \u001b[0;32mfor\u001b[0m \u001b[0mrow\u001b[0m \u001b[0;32min\u001b[0m \u001b[0mcsv_file\u001b[0m\u001b[0;34m:\u001b[0m\u001b[0;34m\u001b[0m\u001b[0;34m\u001b[0m\u001b[0m\n\u001b[1;32m      4\u001b[0m   \u001b[0mprint\u001b[0m\u001b[0;34m(\u001b[0m\u001b[0mrow\u001b[0m\u001b[0;34m)\u001b[0m\u001b[0;34m\u001b[0m\u001b[0;34m\u001b[0m\u001b[0m\n\u001b[1;32m      5\u001b[0m \u001b[0;34m\u001b[0m\u001b[0m\n",
            "\u001b[0;31mFileNotFoundError\u001b[0m: [Errno 2] No such file or directory: '/content/drive/MyDrive/recommend/netflix-prizepro.sgease_results_500.csv'"
          ]
        }
      ],
      "source": [
        "import csv\n",
        "csv_file = open(dir+\"ease_results_500.csv\", \"r\", encoding=\"UTF-8\")\n",
        "for row in csv_file:\n",
        "  print(row)\n",
        "\n"
      ]
    },
    {
      "cell_type": "code",
      "execution_count": null,
      "metadata": {
        "colab": {
          "base_uri": "https://localhost:8080/",
          "height": 245
        },
        "id": "rqPvs49GCLLN",
        "outputId": "b0fb8a6b-5d27-4e2e-b583-f3e6672eb31d"
      },
      "outputs": [
        {
          "output_type": "error",
          "ename": "FileNotFoundError",
          "evalue": "ignored",
          "traceback": [
            "\u001b[0;31m---------------------------------------------------------------------------\u001b[0m",
            "\u001b[0;31mFileNotFoundError\u001b[0m                         Traceback (most recent call last)",
            "\u001b[0;32m<ipython-input-20-25a9f69a9e75>\u001b[0m in \u001b[0;36m<module>\u001b[0;34m\u001b[0m\n\u001b[1;32m      1\u001b[0m \u001b[0;32mimport\u001b[0m \u001b[0mcsv\u001b[0m\u001b[0;34m\u001b[0m\u001b[0;34m\u001b[0m\u001b[0m\n\u001b[1;32m      2\u001b[0m \u001b[0mdir\u001b[0m \u001b[0;34m=\u001b[0m \u001b[0;34m\"/content/drive/MyDrive/recommend/\"\u001b[0m \u001b[0;34m+\u001b[0m \u001b[0mdata\u001b[0m\u001b[0;34m+\u001b[0m\u001b[0;34m\"pro.sg\"\u001b[0m\u001b[0;34m\u001b[0m\u001b[0;34m\u001b[0m\u001b[0m\n\u001b[0;32m----> 3\u001b[0;31m \u001b[0mcsv_file\u001b[0m \u001b[0;34m=\u001b[0m \u001b[0mopen\u001b[0m\u001b[0;34m(\u001b[0m\u001b[0mdir\u001b[0m\u001b[0;34m+\u001b[0m\u001b[0;34m\"train.csv\"\u001b[0m\u001b[0;34m,\u001b[0m \u001b[0;34m\"r\"\u001b[0m\u001b[0;34m,\u001b[0m \u001b[0mencoding\u001b[0m\u001b[0;34m=\u001b[0m\u001b[0;34m\"UTF-8\"\u001b[0m\u001b[0;34m)\u001b[0m\u001b[0;34m\u001b[0m\u001b[0;34m\u001b[0m\u001b[0m\n\u001b[0m\u001b[1;32m      4\u001b[0m \u001b[0;32mfor\u001b[0m \u001b[0mrow\u001b[0m \u001b[0;32min\u001b[0m \u001b[0mcsv_file\u001b[0m\u001b[0;34m:\u001b[0m\u001b[0;34m\u001b[0m\u001b[0;34m\u001b[0m\u001b[0m\n\u001b[1;32m      5\u001b[0m   \u001b[0mprint\u001b[0m\u001b[0;34m(\u001b[0m\u001b[0mrow\u001b[0m\u001b[0;34m)\u001b[0m\u001b[0;34m\u001b[0m\u001b[0;34m\u001b[0m\u001b[0m\n",
            "\u001b[0;31mFileNotFoundError\u001b[0m: [Errno 2] No such file or directory: '/content/drive/MyDrive/recommend/netflix-prizepro.sgtrain.csv'"
          ]
        }
      ],
      "source": [
        "import csv\n",
        "dir = \"/content/drive/MyDrive/recommend/\" + data+\"pro.sg\"\n",
        "csv_file = open(dir+\"train.csv\", \"r\", encoding=\"UTF-8\")\n",
        "for row in csv_file:\n",
        "  print(row)"
      ]
    },
    {
      "cell_type": "code",
      "source": [],
      "metadata": {
        "id": "nxozdv9pI5vy"
      },
      "execution_count": null,
      "outputs": []
    }
  ],
  "metadata": {
    "colab": {
      "machine_shape": "hm",
      "provenance": [],
      "include_colab_link": true
    },
    "kernelspec": {
      "display_name": "Python 3",
      "name": "python3"
    },
    "language_info": {
      "name": "python"
    }
  },
  "nbformat": 4,
  "nbformat_minor": 0
}
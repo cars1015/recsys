{
  "nbformat": 4,
  "nbformat_minor": 0,
  "metadata": {
    "colab": {
      "provenance": [],
      "authorship_tag": "ABX9TyPEJcs5JEAj+hzUIV/tOK3t",
      "include_colab_link": true
    },
    "kernelspec": {
      "name": "python3",
      "display_name": "Python 3"
    },
    "language_info": {
      "name": "python"
    }
  },
  "cells": [
    {
      "cell_type": "markdown",
      "metadata": {
        "id": "view-in-github",
        "colab_type": "text"
      },
      "source": [
        "<a href=\"https://colab.research.google.com/github/cars1015/recsys_MyReserch/blob/main/item2vec.ipynb\" target=\"_parent\"><img src=\"https://colab.research.google.com/assets/colab-badge.svg\" alt=\"Open In Colab\"/></a>"
      ]
    },
    {
      "cell_type": "code",
      "execution_count": null,
      "metadata": {
        "id": "uvwehqw8jryP"
      },
      "outputs": [],
      "source": [
        "import numpy as np\n",
        "import pandas as pd\n",
        "from gensim.models import Word2Vec\n",
        "\n",
        "#data=\"ml-20m\"\n",
        "data=\"netflix-prize\"\n",
        "#data=\"msd\"\n",
        "dir=\"/home/onishi/recommend/\"+data+\"/pro_sg/\"\n",
        "\n",
        "df=pd.read_csv(dir+\"train.csv\")\n",
        "size=len(df['sid'].unique())\n",
        "df['sid']=df['sid'].astype(str)\n",
        "print(df.size)\n",
        "sentences=df.groupby('uid')['sid'].apply(list).tolist()\n",
        "max_list = max(sentences, key=len)\n",
        "max_size = len(max_list)\n",
        "\n",
        "model_dir=data+\"_model\"\n",
        "print(max_size)\n",
        "from gensim.models import Word2Vec\n",
        "\n",
        "\n",
        "for  file_number in [0,0.1,0.01,0.001,0.0001,0.00001]:\n",
        "    model=Word2Vec(sentences,sg=1,vector_size=100,window=1000,hs=0,negative=5,seed=0,min_count=1,ns_exponent=file_number)\n",
        "    model.save('/home/onishi/recommend/'+model_dir+'/model_100_1000_sa{}'.format(file_number))\n",
        "    print(file_number)\n",
        "for  file_number in [-1.0,-0.5,0,0,5,1]:\n",
        "    model=Word2Vec(sentences,sg=1,vector_size=100,window=1000,hs=0,negative=5,seed=0,min_count=1,ns_exponent=file_number)\n",
        "    model.save('/home/onishi/recommend/'+model_dir+'/model_100_1000_ns{}'.format(file_number))\n",
        "    print(file_number)\n",
        "for  file_number in [2,4,6,8,10,12]:\n",
        "    model=Word2Vec(sentences,sg=1,vector_size=100,window=1000,hs=0,negative=5,seed=0,min_count=1,epochs=file_number)\n",
        "    model.save('/home/onishi/recommend/'+model_dir+'/model_100_1000_ep{}'.format(file_number))\n",
        "    print(file_number)\n",
        "model=Word2Vec(sentences,sg=1,vector_size=100,window=12000,hs=0,negative=5,seed=0,min_count=1)\n",
        "model.save('/home/onishi/recommend/'+model_dir+'/model_100_12000')"
      ]
    }
  ]
}
{
  "nbformat": 4,
  "nbformat_minor": 0,
  "metadata": {
    "colab": {
      "provenance": [],
      "authorship_tag": "ABX9TyO3qPhbkfS/D1VK2rLM/Las",
      "include_colab_link": true
    },
    "kernelspec": {
      "name": "python3",
      "display_name": "Python 3"
    },
    "language_info": {
      "name": "python"
    }
  },
  "cells": [
    {
      "cell_type": "markdown",
      "metadata": {
        "id": "view-in-github",
        "colab_type": "text"
      },
      "source": [
        "<a href=\"https://colab.research.google.com/github/cars1015/recsys_MyReserch/blob/main/cos.ipynb\" target=\"_parent\"><img src=\"https://colab.research.google.com/assets/colab-badge.svg\" alt=\"Open In Colab\"/></a>"
      ]
    },
    {
      "cell_type": "code",
      "execution_count": 1,
      "metadata": {
        "colab": {
          "base_uri": "https://localhost:8080/"
        },
        "id": "deHkIQNPqtcA",
        "outputId": "b273be21-3801-4607-cfd1-da61d4b85839"
      },
      "outputs": [
        {
          "output_type": "stream",
          "name": "stdout",
          "text": [
            "Mounted at /content/drive\n"
          ]
        }
      ],
      "source": [
        "from google.colab import drive\n",
        "\n",
        "# Googleドライブをマウント\n",
        "drive.mount('/content/drive')"
      ]
    },
    {
      "cell_type": "code",
      "source": [
        "import numpy as np\n",
        "import pandas as pd\n",
        "def cos_sim(v1, v2):\n",
        "    return np.dot(v1, v2) / (np.linalg.norm(v1) * np.linalg.norm(v2))"
      ],
      "metadata": {
        "id": "P47f4mUNqvT1"
      },
      "execution_count": 3,
      "outputs": []
    },
    {
      "cell_type": "markdown",
      "source": [
        "簡単なコサイン類似度"
      ],
      "metadata": {
        "id": "qyalQ0A9xb6d"
      }
    },
    {
      "cell_type": "code",
      "source": [
        "data=\"ml-20m\"\n",
        "dir=\"/content/drive/MyDrive/recommend/\" + data + \"/pro_sg/\"\n",
        "df=pd.read_csv(dir+\"test_tr.csv\")"
      ],
      "metadata": {
        "id": "nsfZ84JVxfAw"
      },
      "execution_count": 36,
      "outputs": []
    },
    {
      "cell_type": "code",
      "source": [
        "class cos:\n",
        "    def __init__(self):\n",
        "      #LabelEncoder()は文字列を数値に変えてくれる\n",
        "        self.user_enc = LabelEncoder()\n",
        "        self.item_enc = LabelEncoder()\n",
        "\n",
        "    def _get_users_and_items(self, df):\n",
        "        users = self.user_enc.fit_transform(df.loc[:, 'uid'])\n",
        "        items = self.item_enc.fit_transform(df.loc[:, 'sid'])\n",
        "        return users, items\n",
        "\n",
        "    def cos_sim(v1, v2):\n",
        "        return np.dot(v1, v2) / (np.linalg.norm(v1) * np.linalg.norm(v2))\n",
        "    def fit(self, df, implicit=True):\n",
        "        \"\"\"\n",
        "        df: pandas.DataFrame with columns user_id, item_id and (rating)\n",
        "        lambda_: l2-regularization term\n",
        "        implicit: if True, ratings are ignored and taken as 1, else normalized ratings are used\n",
        "        \"\"\"\n",
        "        users, items = self._get_users_and_items(df)\n",
        "        values = np.ones(df.shape[0]) if implicit else df['rating'].to_numpy() / df['rating'].max()\n",
        "\n",
        "        X = csr_matrix((values, (users, items)))\n",
        "        self.X = X\n",
        "    \n",
        "        X=X.toarray()\n",
        "        diagIndices=np.diag_indices(X.shape[1])\n",
        "        B=np.zeros((X.shape[1],X.shape[1]))\n",
        "        for i in range(X.shape[1]):\n",
        "          for j in range(X.shape[1]):\n",
        "            B[i,j]=cos_sim(X[:,i],X[:,j])\n",
        "        B[diagIndices]=0\n",
        "        self.B=B\n"
      ],
      "metadata": {
        "id": "2QquTrLUyLvP"
      },
      "execution_count": 39,
      "outputs": []
    },
    {
      "cell_type": "code",
      "source": [
        "model=cos()\n",
        "model.fit(df)"
      ],
      "metadata": {
        "id": "Ejfq6UcHzQZt"
      },
      "execution_count": null,
      "outputs": []
    },
    {
      "cell_type": "code",
      "source": [
        "df_test=pd.read_csv(dir+\"test_tr.csv\")\n",
        "users = df_test.loc[:, 'uid']\n",
        "items = df_test.loc[:, 'sid']\n",
        "\n",
        "u_enc = LabelEncoder()\n",
        "users_id = u_enc.fit_transform(users)\n",
        "items_id = model.item_enc.transform(items)\n",
        "\n",
        "# \n",
        "values = np.ones(df_test.shape[0])\n",
        "shape = (u_enc.classes_.size, model.item_enc.classes_.size)\n",
        "X = csr_matrix((values, (users_id, items_id)), shape=shape)\n",
        "print(X)\n",
        "print(X.toarray())\n",
        "#\n",
        "print(X.T.dot(X).toarray())\n",
        "\n",
        "pred = X.dot(model.B)"
      ],
      "metadata": {
        "id": "-a3OhiBz0_jK"
      },
      "execution_count": null,
      "outputs": []
    },
    {
      "cell_type": "code",
      "source": [
        "pred=X.dot()\n",
        "np.savetxt(dir+\"pred_cos.txt\",pred)"
      ],
      "metadata": {
        "colab": {
          "base_uri": "https://localhost:8080/"
        },
        "id": "G_di6GQlrT67",
        "outputId": "f9abd32b-bb30-44ef-bcbb-02fc148846d6"
      },
      "execution_count": 20,
      "outputs": [
        {
          "output_type": "stream",
          "name": "stdout",
          "text": [
            "[ 0.          0.21550548  0.01174305 -0.08450545  0.03320105 -0.17986658\n",
            " -0.06159746 -0.07742302  0.09398268 -0.00076131  0.0046061   0.02857799\n",
            " -0.07517553 -0.03395668 -0.1315152   0.19080944  0.01517345 -0.02964113\n",
            " -0.02096879  0.01374048  0.03491639 -0.06736777 -0.00872675  0.15482946\n",
            "  0.12198146 -0.11254683 -0.05356868 -0.20114499 -0.09942105 -0.23621311]\n",
            "(30, 30)\n"
          ]
        }
      ]
    }
  ]
}
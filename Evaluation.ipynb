{
  "nbformat": 4,
  "nbformat_minor": 0,
  "metadata": {
    "colab": {
      "provenance": [],
      "authorship_tag": "ABX9TyPa/Q8s7zcegEb2jirROj5T",
      "include_colab_link": true
    },
    "kernelspec": {
      "name": "python3",
      "display_name": "Python 3"
    },
    "language_info": {
      "name": "python"
    }
  },
  "cells": [
    {
      "cell_type": "markdown",
      "metadata": {
        "id": "view-in-github",
        "colab_type": "text"
      },
      "source": [
        "<a href=\"https://colab.research.google.com/github/cars1015/recsys_MyReserch/blob/main/Evaluation.ipynb\" target=\"_parent\"><img src=\"https://colab.research.google.com/assets/colab-badge.svg\" alt=\"Open In Colab\"/></a>"
      ]
    },
    {
      "cell_type": "code",
      "execution_count": null,
      "metadata": {
        "colab": {
          "base_uri": "https://localhost:8080/"
        },
        "id": "UDX5hFwBi5R8",
        "outputId": "2e2cbf23-b666-429d-fa10-e0ec049e29e1"
      },
      "outputs": [
        {
          "output_type": "stream",
          "name": "stdout",
          "text": [
            "Mounted at /content/drive\n"
          ]
        }
      ],
      "source": [
        "from google.colab import drive\n",
        "\n",
        "# Googleドライブをマウント\n",
        "drive.mount('/content/drive')"
      ]
    },
    {
      "cell_type": "code",
      "source": [
        "import numpy as np\n",
        "import pandas as pd\n",
        "from scipy import sparse\n",
        "!pip install bottleneck\n",
        "import os\n",
        "import bottleneck as bn"
      ],
      "metadata": {
        "colab": {
          "base_uri": "https://localhost:8080/"
        },
        "id": "K3ifXTIcwMyz",
        "outputId": "011c301d-a21e-487b-a270-7435c6524251"
      },
      "execution_count": null,
      "outputs": [
        {
          "output_type": "stream",
          "name": "stdout",
          "text": [
            "Looking in indexes: https://pypi.org/simple, https://us-python.pkg.dev/colab-wheels/public/simple/\n",
            "Collecting bottleneck\n",
            "  Downloading Bottleneck-1.3.7-cp39-cp39-manylinux_2_5_x86_64.manylinux1_x86_64.manylinux_2_17_x86_64.manylinux2014_x86_64.whl (353 kB)\n",
            "\u001b[2K     \u001b[90m━━━━━━━━━━━━━━━━━━━━━━━━━━━━━━━━━━━━━━\u001b[0m \u001b[32m353.1/353.1 KB\u001b[0m \u001b[31m20.1 MB/s\u001b[0m eta \u001b[36m0:00:00\u001b[0m\n",
            "\u001b[?25hRequirement already satisfied: numpy in /usr/local/lib/python3.9/dist-packages (from bottleneck) (1.22.4)\n",
            "Installing collected packages: bottleneck\n",
            "Successfully installed bottleneck-1.3.7\n"
          ]
        }
      ]
    },
    {
      "cell_type": "code",
      "source": [
        "#データの選択\n",
        "#data=\"netflix-prize\"\n",
        "data=\"ml-20m\"\n",
        "#data=\"msd\"\n",
        "\n",
        "dir = \"/content/drive/MyDrive/recommend/\" + data + \"/pro_sg/\"\n",
        "pred=np.loadtxt(dir+\"pred_te.txt\")"
      ],
      "metadata": {
        "id": "k5OqvlMOnatU"
      },
      "execution_count": null,
      "outputs": []
    },
    {
      "cell_type": "code",
      "source": [
        "\n",
        "def NDCG(x_pred, x_test, k=100):\n",
        "  \n",
        "    user_num = x_pred.shape[0]\n",
        "\n",
        "    idx_topk_part = bn.argpartition(-x_pred, k, axis=1)\n",
        "\n",
        "    topk_part = x_pred[np.arange(user_num)[:, np.newaxis],\n",
        "                       idx_topk_part[:, :k]]\n",
        "\n",
        "    idx_part = np.argsort(-topk_part, axis=1)\n",
        "\n",
        "    idx_topk = idx_topk_part[np.arange(user_num)[:, np.newaxis], idx_part]\n",
        "\n",
        "\n",
        "    tp = 1. / np.log2(np.arange(2, k + 2))                       \n",
        "    DCG = (x_test[np.arange(user_num)[:, np.newaxis],\n",
        "                         idx_topk].toarray() * tp).sum(axis=1)\n",
        "    IDCG = np.array([(tp[:min(n, k)]).sum()\n",
        "                     for n in x_test.getnnz(axis=1)])\n",
        "    return DCG / IDCG\n",
        "\n",
        "def Recall(x_pred, x_test, k):\n",
        "    users_num = x_pred.shape[0]\n",
        "\n",
        "    idx = bn.argpartition(-x_pred, k, axis=1)\n",
        "   \n",
        "    X_pred_binary = np.zeros_like(x_pred, dtype=bool)\n",
        "   \n",
        "    X_pred_binary[np.arange(users_num)[:, np.newaxis], idx[:, :k]] = True\n",
        "   \n",
        "    X_true_binary = (x_test > 0).toarray()\n",
        "   \n",
        "    tmp = (np.logical_and(X_true_binary, X_pred_binary).sum(axis=1)).astype(\n",
        "        np.float32)\n",
        "    recall = tmp / np.minimum(k, X_true_binary.sum(axis=1))\n",
        "    return recall\n",
        "\n",
        "def load_tr_te_data(csv_file_tr, csv_file_te):\n",
        "    tp_tr = pd.read_csv(csv_file_tr)\n",
        "    tp_te = pd.read_csv(csv_file_te)\n",
        "\n",
        "    start_idx = min(tp_tr['uid'].min(), tp_te['uid'].min())\n",
        "    end_idx = max(tp_tr['uid'].max(), tp_te['uid'].max())\n",
        "\n",
        "    rows_tr, cols_tr = tp_tr['uid'] - start_idx, tp_tr['sid']\n",
        "    rows_te, cols_te = tp_te['uid'] - start_idx, tp_te['sid']\n",
        "\n",
        "    data_tr = sparse.csr_matrix((np.ones_like(rows_tr),\n",
        "                             (rows_tr, cols_tr)), dtype='float64', shape=(end_idx - start_idx + 1, n_items))\n",
        "    data_te = sparse.csr_matrix((np.ones_like(rows_te),\n",
        "                             (rows_te, cols_te)), dtype='float64', shape=(end_idx - start_idx + 1, n_items))\n",
        "    return data_tr, data_te"
      ],
      "metadata": {
        "id": "-HGD3OeJjAwK"
      },
      "execution_count": null,
      "outputs": []
    },
    {
      "cell_type": "code",
      "source": [
        "unique_sid = list()\n",
        "with open(os.path.join(dir, 'unique_sid.txt'), 'r') as f:\n",
        "    for line in f:\n",
        "        unique_sid.append(line.strip())\n",
        "\n",
        "n_items = len(unique_sid)\n",
        "\n",
        "test_data_tr, test_data_te = load_tr_te_data(\n",
        "    os.path.join(dir, 'test_tr.csv'),\n",
        "    os.path.join(dir, 'test_te.csv'))\n",
        "\n",
        "batch_size_test=2000\n",
        "N_test=test_data_tr.shape[0]\n",
        "idx_list_test=range(N_test)\n",
        "test=test_data_te[idx_list_test]"
      ],
      "metadata": {
        "id": "ekEFGxR4jG92"
      },
      "execution_count": null,
      "outputs": []
    },
    {
      "cell_type": "code",
      "source": [
        "n100_list,r20_list,r50_list=[],[],[]\n",
        "\n",
        "for bnum,st_idx in enumerate(range(0,N_test,batch_size_test)):\n",
        "  end_idx=min(st_idx+batch_size_test,N_test)\n",
        "  X = test_data_tr[idx_list_test[st_idx:end_idx]]\n",
        "  if sparse.isspmatrix(X):\n",
        "        X = X.toarray()\n",
        "        X = X.astype('float32')\n",
        "  pred_val=pred[idx_list_test[st_idx:end_idx]]\n",
        "  pred_val[X.nonzero()]=-np.inf\n",
        "  n100_list.append(NDCG(pred_val, test[st_idx:end_idx], k=100))\n",
        "  r20_list.append(Recall(pred_val, test[st_idx:end_idx], k=20))\n",
        "  r50_list.append(Recall(pred_val, test[st_idx:end_idx], k=50))\n",
        "n100_list = np.concatenate(n100_list)\n",
        "r20_list = np.concatenate(r20_list)\n",
        "r50_list = np.concatenate(r50_list)"
      ],
      "metadata": {
        "id": "Sb5FJcpbkC3o"
      },
      "execution_count": null,
      "outputs": []
    },
    {
      "cell_type": "code",
      "source": [
        "\n",
        "print(\"Test NDCG@100=%.5f (%.5f)\" % (np.mean(n100_list), np.std(n100_list) / np.sqrt(len(n100_list))))\n",
        "print(\"Test Recall@20=%.5f (%.5f)\" % (np.mean(r20_list), np.std(r20_list) / np.sqrt(len(r20_list))))\n",
        "print(\"Test Recall@50=%.5f (%.5f)\" % (np.mean(r50_list), np.std(r50_list) / np.sqrt(len(r50_list))))"
      ],
      "metadata": {
        "colab": {
          "base_uri": "https://localhost:8080/"
        },
        "id": "BoNupnq9xn7d",
        "outputId": "9679c3dd-d3af-475d-912e-80f90c3b3312"
      },
      "execution_count": null,
      "outputs": [
        {
          "output_type": "stream",
          "name": "stdout",
          "text": [
            "Test NDCG@100=0.42026 (0.00214)\n",
            "Test Recall@20=0.39132 (0.00268)\n",
            "Test Recall@50=0.52107 (0.00281)\n"
          ]
        }
      ]
    }
  ]
}
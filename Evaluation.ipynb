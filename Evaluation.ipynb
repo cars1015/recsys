{
  "nbformat": 4,
  "nbformat_minor": 0,
  "metadata": {
    "colab": {
      "provenance": [],
      "authorship_tag": "ABX9TyOcgSvvJz2AINmDCCpBFT3G",
      "include_colab_link": true
    },
    "kernelspec": {
      "name": "python3",
      "display_name": "Python 3"
    },
    "language_info": {
      "name": "python"
    }
  },
  "cells": [
    {
      "cell_type": "markdown",
      "metadata": {
        "id": "view-in-github",
        "colab_type": "text"
      },
      "source": [
        "<a href=\"https://colab.research.google.com/github/cars1015/recsys_MyReserch/blob/main/Evaluation.ipynb\" target=\"_parent\"><img src=\"https://colab.research.google.com/assets/colab-badge.svg\" alt=\"Open In Colab\"/></a>"
      ]
    },
    {
      "cell_type": "code",
      "execution_count": 1,
      "metadata": {
        "colab": {
          "base_uri": "https://localhost:8080/"
        },
        "id": "_sI2OjpY1OjX",
        "outputId": "3a0a013d-25ef-4519-c589-da5d441aec9a"
      },
      "outputs": [
        {
          "output_type": "stream",
          "name": "stdout",
          "text": [
            "Drive already mounted at /content/drive; to attempt to forcibly remount, call drive.mount(\"/content/drive\", force_remount=True).\n"
          ]
        }
      ],
      "source": [
        "from google.colab import drive\n",
        "\n",
        "# Googleドライブをマウント\n",
        "drive.mount('/content/drive')"
      ]
    },
    {
      "cell_type": "markdown",
      "source": [
        "ライブラリのインポート"
      ],
      "metadata": {
        "id": "yzXbOCgK9ksc"
      }
    },
    {
      "cell_type": "code",
      "source": [
        "import numpy as np\n",
        "import pandas as pd\n",
        "from scipy import sparse\n",
        "!pip install bottleneck\n",
        "import os\n",
        "import bottleneck as bn"
      ],
      "metadata": {
        "colab": {
          "base_uri": "https://localhost:8080/"
        },
        "id": "nLkR0v5l9b9C",
        "outputId": "739b8e3a-b249-4d0a-ab7b-8fe7aee1ce54"
      },
      "execution_count": 2,
      "outputs": [
        {
          "output_type": "stream",
          "name": "stdout",
          "text": [
            "Looking in indexes: https://pypi.org/simple, https://us-python.pkg.dev/colab-wheels/public/simple/\n",
            "Requirement already satisfied: bottleneck in /usr/local/lib/python3.8/dist-packages (1.3.6)\n",
            "Requirement already satisfied: numpy in /usr/local/lib/python3.8/dist-packages (from bottleneck) (1.22.4)\n"
          ]
        }
      ]
    },
    {
      "cell_type": "markdown",
      "source": [
        "データの選択、学習した予測値の読み込み"
      ],
      "metadata": {
        "id": "np5fXjX_9pST"
      }
    },
    {
      "cell_type": "code",
      "source": [
        "#データの選択\n",
        "#data=\"netflix-prize\"\n",
        "data=\"ml-20m\"\n",
        "#data=\"msd\"\n",
        "\n",
        "dir = \"/content/drive/MyDrive/recommend/\" + data + \"/pro_sg/\"\n",
        "pred=np.loadtxt(dir+\"pred.txt\")"
      ],
      "metadata": {
        "id": "7ZS_QI9lKsXx"
      },
      "execution_count": 3,
      "outputs": []
    },
    {
      "cell_type": "code",
      "source": [
        "print(pred[:,0:2])"
      ],
      "metadata": {
        "colab": {
          "base_uri": "https://localhost:8080/"
        },
        "id": "NdXi-AyOJmgs",
        "outputId": "e0c7397c-bd5c-4344-a1be-3cabd2c7a322"
      },
      "execution_count": 5,
      "outputs": [
        {
          "output_type": "stream",
          "name": "stdout",
          "text": [
            "[[ 0.09275124  0.1858637 ]\n",
            " [-0.04268303  0.05836733]\n",
            " [ 0.00543846 -0.02914956]\n",
            " ...\n",
            " [ 0.15176699  0.39382971]\n",
            " [ 0.04880058  0.01455248]\n",
            " [-0.00339534  0.02360744]]\n"
          ]
        }
      ]
    },
    {
      "cell_type": "markdown",
      "source": [
        "NDCG、Recallの関数"
      ],
      "metadata": {
        "id": "AtFkYVVR9-Pi"
      }
    },
    {
      "cell_type": "code",
      "source": [
        "def NDCG(x_pred, x_test, k=100):\n",
        "  \n",
        "    user_num = x_pred.shape[0]\n",
        "    idx_topk_part = bn.argpartition(-x_pred, k, axis=1)\n",
        "    #ユーザ数と同じ行数の列ベクトルの作成とid_topk_partより最初のk列を取り出している\n",
        "    topk_part = x_pred[np.arange(user_num)[:, np.newaxis],\n",
        "                       idx_topk_part[:, :k]]\n",
        "    #これにより各行を降順にソート\n",
        "    idx_part = np.argsort(-topk_part, axis=1)\n",
        "    #ここに各ユーザ上位k個のアイテムのインデックスを格納\n",
        "    idx_topk = idx_topk_part[np.arange(user_num)[:, np.newaxis], idx_part]\n",
        "    print(\"idx_topk\")\n",
        "    print(idx_topk)\n",
        "    print(idx_topk.shape)\n",
        "    # ランキングごとの分母部分\n",
        "    tp = 1. / np.log2(np.arange(2, k + 2))\n",
        "    print(tp)\n",
        "    #ユーザごとに上位k個のアイテムに対する評価値を格納\n",
        "    #x_test[np.arange(user_num)[:, np.newaxis],idx_topk]にはx_testの中に含まれる上位のアイテムのインデックス(idx_topk)を示す                        \n",
        "    DCG = (x_test[np.arange(user_num)[:, np.newaxis],\n",
        "                         idx_topk].toarray() * tp).sum(axis=1)\n",
        "    print(\"中身\")\n",
        "    print(x_test[np.arange(user_num)[:,np.newaxis],idx_topk].toarray()*tp)\n",
        "    #各ユーザに対してk個のアイテムを推奨した場合の理想的な最大のDCGスコアを表す\n",
        "    IDCG = np.array([(tp[:min(n, k)]).sum()\n",
        "                     for n in x_test.getnnz(axis=1)])\n",
        "    #getnnz(axis=1)は各行の非0要素の数を返す。\n",
        "    return DCG / IDCG\n",
        "\n",
        "def Recall(x_pred, x_test, k):\n",
        "    users_num = x_pred.shape[0]\n",
        "\n",
        "    idx = bn.argpartition(-x_pred, k, axis=1)\n",
        "    #x_predと同じサイズの全False行列作成\n",
        "    X_pred_binary = np.zeros_like(x_pred, dtype=bool)\n",
        "    #ここで推薦されたアイテムがあるインデックスをTrueに置き換え\n",
        "    X_pred_binary[np.arange(users_num)[:, np.newaxis], idx[:, :k]] = True\n",
        "    #x_testの要素が0でない要素をTrueにした配列\n",
        "    X_true_binary = (x_test > 0).toarray()\n",
        "    #同じ位置にTrueがある場合個数を入れる\n",
        "    tmp = (np.logical_and(X_true_binary, X_pred_binary).sum(axis=1)).astype(\n",
        "        np.float32)\n",
        "    recall = tmp / np.minimum(k, X_true_binary.sum(axis=1))\n",
        "    return recall\n",
        "\n",
        "def load_tr_te_data(csv_file_tr, csv_file_te):\n",
        "    tp_tr = pd.read_csv(csv_file_tr)\n",
        "    tp_te = pd.read_csv(csv_file_te)\n",
        "\n",
        "    start_idx = min(tp_tr['uid'].min(), tp_te['uid'].min())\n",
        "    end_idx = max(tp_tr['uid'].max(), tp_te['uid'].max())\n",
        "\n",
        "    rows_tr, cols_tr = tp_tr['uid'] - start_idx, tp_tr['sid']\n",
        "    rows_te, cols_te = tp_te['uid'] - start_idx, tp_te['sid']\n",
        "\n",
        "    data_tr = sparse.csr_matrix((np.ones_like(rows_tr),\n",
        "                             (rows_tr, cols_tr)), dtype='float64', shape=(end_idx - start_idx + 1, n_items))\n",
        "    data_te = sparse.csr_matrix((np.ones_like(rows_te),\n",
        "                             (rows_te, cols_te)), dtype='float64', shape=(end_idx - start_idx + 1, n_items))\n",
        "    return data_tr, data_te\n"
      ],
      "metadata": {
        "id": "8wt9xeqe7YWB"
      },
      "execution_count": 7,
      "outputs": []
    },
    {
      "cell_type": "code",
      "source": [
        "unique_sid = list()\n",
        "with open(os.path.join(dir, 'unique_sid.txt'), 'r') as f:\n",
        "    for line in f:\n",
        "        unique_sid.append(line.strip())\n",
        "\n",
        "n_items = len(unique_sid)\n",
        "\n",
        "test_data_tr, test_data_te = load_tr_te_data(\n",
        "    os.path.join(dir, 'test_tr.csv'),\n",
        "    os.path.join(dir, 'test_te.csv'))\n",
        "\n",
        "N_test=test_data_tr.shape[0]\n",
        "idx_list_test=range(N_test)\n",
        "test=test_data_te[idx_list_test]\n",
        "x=test_data_te.toarray()\n",
        "print(x)"
      ],
      "metadata": {
        "id": "K4Y9s1DP1zA7",
        "colab": {
          "base_uri": "https://localhost:8080/"
        },
        "outputId": "3fcb245f-7773-40d9-ed97-277c343988d3"
      },
      "execution_count": 8,
      "outputs": [
        {
          "output_type": "stream",
          "name": "stdout",
          "text": [
            "[[0. 0. 0. ... 0. 0. 0.]\n",
            " [0. 0. 0. ... 0. 0. 0.]\n",
            " [0. 0. 0. ... 0. 0. 0.]\n",
            " ...\n",
            " [0. 0. 0. ... 0. 0. 0.]\n",
            " [0. 0. 0. ... 0. 0. 0.]\n",
            " [0. 0. 0. ... 0. 0. 0.]]\n"
          ]
        }
      ]
    },
    {
      "cell_type": "code",
      "source": [
        "n=NDCG(pred,test_data_te,k=100)\n",
        "r20=Recall(pred,test_data_te,k=20)\n",
        "r50=Recall(pred,test_data_te,k=50)"
      ],
      "metadata": {
        "colab": {
          "base_uri": "https://localhost:8080/"
        },
        "id": "8vGh4RYOCF0D",
        "outputId": "50615d19-773b-4219-ccce-934a88cf7437"
      },
      "execution_count": 9,
      "outputs": [
        {
          "output_type": "stream",
          "name": "stdout",
          "text": [
            "idx_topk\n",
            "[[   5   80  144 ...  155  408    8]\n",
            " [   3    7   96 ... 1410  598 1956]\n",
            " [ 156   80   71 ...  705  691  939]\n",
            " ...\n",
            " [  12  100  283 ...  898  278   28]\n",
            " [ 391 1372   70 ...   98 1031 1312]\n",
            " [ 262  367   89 ... 2201  892  138]]\n",
            "(10000, 100)\n",
            "[1.         0.63092975 0.5        0.43067656 0.38685281 0.35620719\n",
            " 0.33333333 0.31546488 0.30103    0.28906483 0.27894295 0.27023815\n",
            " 0.26264954 0.25595802 0.25       0.24465054 0.23981247 0.23540891\n",
            " 0.23137821 0.22767025 0.22424382 0.22106473 0.21810429 0.21533828\n",
            " 0.21274605 0.21030992 0.2080146  0.20584683 0.20379505 0.20184909\n",
            " 0.2        0.19823986 0.19656163 0.19495902 0.1934264  0.19195872\n",
            " 0.19055141 0.18920036 0.18790182 0.18665241 0.18544902 0.18428883\n",
            " 0.18316925 0.1820879  0.1810426  0.18003133 0.17905223 0.17810359\n",
            " 0.17718382 0.17629143 0.17542506 0.17458343 0.17376534 0.17296969\n",
            " 0.17219543 0.1714416  0.17070728 0.16999162 0.16929381 0.1686131\n",
            " 0.16794878 0.16730018 0.16666667 0.16604765 0.16544255 0.16485086\n",
            " 0.16427205 0.16370566 0.16315122 0.16260831 0.16207652 0.16155547\n",
            " 0.16104477 0.16054409 0.16005307 0.15957142 0.15909881 0.15863496\n",
            " 0.15817959 0.15773244 0.15729325 0.15686177 0.15643779 0.15602107\n",
            " 0.15561139 0.15520856 0.15481238 0.15442266 0.15403922 0.15366189\n",
            " 0.15329049 0.15292487 0.15256487 0.15221035 0.15186115 0.15151715\n",
            " 0.15117821 0.1508442  0.150515   0.15019048]\n",
            "中身\n",
            "[[1.         0.         0.         ... 0.         0.         0.        ]\n",
            " [0.         0.         0.         ... 0.         0.         0.        ]\n",
            " [0.         0.         0.         ... 0.         0.         0.        ]\n",
            " ...\n",
            " [1.         0.63092975 0.         ... 0.         0.         0.        ]\n",
            " [0.         0.         0.         ... 0.         0.         0.        ]\n",
            " [1.         0.         0.         ... 0.         0.         0.        ]]\n"
          ]
        }
      ]
    },
    {
      "cell_type": "code",
      "source": [
        "print(\"Test NDCG@100=%.5f\" % (np.mean(n)))\n",
        "print(\"Test Recall@20=%.5f\" % (np.mean(r20)))\n",
        "print(\"Test Recall@50=%.5f\" % (np.mean(r50)))"
      ],
      "metadata": {
        "colab": {
          "base_uri": "https://localhost:8080/"
        },
        "id": "D5tngOm5HXyv",
        "outputId": "12bb8a4d-1a23-43f3-c122-49adeda854e2"
      },
      "execution_count": 10,
      "outputs": [
        {
          "output_type": "stream",
          "name": "stdout",
          "text": [
            "Test NDCG@100=0.31519\n",
            "Test Recall@20=0.27795\n",
            "Test Recall@50=0.43994\n"
          ]
        }
      ]
    }
  ]
}